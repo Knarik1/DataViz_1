{
 "cells": [
  {
   "cell_type": "code",
   "execution_count": 160,
   "metadata": {},
   "outputs": [],
   "source": [
    "import numpy as np"
   ]
  },
  {
   "cell_type": "markdown",
   "metadata": {},
   "source": [
    "#Probelm 1"
   ]
  },
  {
   "cell_type": "code",
   "execution_count": 161,
   "metadata": {},
   "outputs": [
    {
     "name": "stdout",
     "output_type": "stream",
     "text": [
      "[41 97 21]\n",
      "[80  5  4 15 64 79]\n"
     ]
    }
   ],
   "source": [
    "arr1 = np.random.randint(1,100,3)\n",
    "arr2 = np.random.randint(1,100,6)\n",
    "print(arr1)\n",
    "print(arr2) "
   ]
  },
  {
   "cell_type": "code",
   "execution_count": 162,
   "metadata": {},
   "outputs": [
    {
     "name": "stdout",
     "output_type": "stream",
     "text": [
      "Arrays set difference:  [ 4  5 15 21 41 64 79 80 97]\n"
     ]
    }
   ],
   "source": [
    "def getSetsDiff(a, b):\n",
    "    print(\"Arrays set difference: \", np.setxor1d(a, b))\n",
    "    \n",
    "getSetsDiff(arr1, arr2)   "
   ]
  },
  {
   "cell_type": "markdown",
   "metadata": {},
   "source": [
    "#Problem 2"
   ]
  },
  {
   "cell_type": "code",
   "execution_count": 163,
   "metadata": {},
   "outputs": [
    {
     "name": "stdout",
     "output_type": "stream",
     "text": [
      "[93 26 38 26 99 10 81 23 23 24]\n"
     ]
    }
   ],
   "source": [
    "arr3 = np.random.randint(10, 100, 10)\n",
    "print(arr3)"
   ]
  },
  {
   "cell_type": "code",
   "execution_count": 164,
   "metadata": {},
   "outputs": [
    {
     "name": "stdout",
     "output_type": "stream",
     "text": [
      "[93 99 81 23 23]\n"
     ]
    }
   ],
   "source": [
    "oddNums = arr3[arr3%2==1]\n",
    "print(oddNums)"
   ]
  },
  {
   "cell_type": "markdown",
   "metadata": {},
   "source": [
    "#Problem 3"
   ]
  },
  {
   "cell_type": "code",
   "execution_count": 171,
   "metadata": {},
   "outputs": [],
   "source": [
    "mixed_arr = [\"s\", 3, \"dfd\", 22, 10, \"rrr\", \"e3\", 1]"
   ]
  },
  {
   "cell_type": "code",
   "execution_count": 174,
   "metadata": {},
   "outputs": [],
   "source": [
    "def writeCountInFile(arr):\n",
    "    even_arr =[i for i in arr if type(i)==int and i%2==0]\n",
    "    print(even_arr)\n",
    "    odd_arr = [i for i in arr if type(i)==int and i%2==1]\n",
    "    print(odd_arr)\n",
    "    str_arr = [i for i in arr if type(i)==str]\n",
    "    print(str_arr)\n",
    "    \n",
    "    all_lines = [\n",
    "        \"Number of strings: {}\\n\".format(len(str_arr)),\n",
    "        \"Number of odd integers: {}\\n\".format(len(odd_arr)),\n",
    "        \"Number of even integers: {}\".format(len(even_arr)),\n",
    "                ]\n",
    "    \n",
    "    file = open(\"b.txt\", \"w\")\n",
    "    file.writelines(all_lines)\n",
    "    file.close()"
   ]
  },
  {
   "cell_type": "code",
   "execution_count": 175,
   "metadata": {},
   "outputs": [
    {
     "name": "stdout",
     "output_type": "stream",
     "text": [
      "[22, 10]\n",
      "[3, 1]\n",
      "['s', 'dfd', 'rrr', 'e3']\n"
     ]
    }
   ],
   "source": [
    "writeCountInFile(mixed_arr)"
   ]
  },
  {
   "cell_type": "code",
   "execution_count": null,
   "metadata": {},
   "outputs": [],
   "source": []
  }
 ],
 "metadata": {
  "kernelspec": {
   "display_name": "Python 3",
   "language": "python",
   "name": "python3"
  },
  "language_info": {
   "codemirror_mode": {
    "name": "ipython",
    "version": 3
   },
   "file_extension": ".py",
   "mimetype": "text/x-python",
   "name": "python",
   "nbconvert_exporter": "python",
   "pygments_lexer": "ipython3",
   "version": "3.7.0"
  }
 },
 "nbformat": 4,
 "nbformat_minor": 2
}
